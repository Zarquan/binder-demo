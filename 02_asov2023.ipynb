{
 "cells": [
  {
   "cell_type": "markdown",
   "metadata": {},
   "source": [
    "# Variable Stars in the Orion Star Cluster #\n",
    "These notebooks will show how to access different services to obtain data for variable stars in the Orion star cluster. We will use a list of VO standards (for a complete linklist look at the end of this notebook). \n",
    "\n",
    "The steps we are going to to are the following:\n",
    "\n",
    "1. Query SIMBAD to obtain a list of member stars of the Orion star cluster and their Gaia DR 3 id\n",
    "2. X-match with the Gaia catalog\n",
    "3. Use the VO Datalink standard to access the lightcurves of some of the objects\n",
    "4. Use UCDs to access lightcurves\n",
    "5. Use astropy to find external software in SAMP\n",
    "6. Query a SSA service to access spectra for the objects\n",
    "\n",
    "The first notebook will present and explain short snippets to help understand each of the upper steps and how easy they can be implemented in Python. The second notebook will bring together these snippets and add some user interface to shift control (and responsibility) on the user side. \n",
    "\n",
    "\n",
    "## Requirements ##\n",
    "\n",
    "Before you run these notebooks please make sure you have the required libraries and software installed on you machine. \n",
    "\n",
    "\n",
    "### Python libraries ### \n",
    "We also use some libraries which are not included in Python. You will have to install these either from your OS package manager or via a package manager like pip or conda. These libraries are\n",
    "\n",
    "astropy: https://www.astropy.org/\n",
    "\n",
    "pyvo: https://pyvo.readthedocs.io/en/latest/\n",
    "\n",
    "ipywidgets: https://ipywidgets.readthedocs.io/en/stable/\n",
    "\n",
    "ipyaladin: https://github.com/cds-astro/ipyaladin\n",
    "\n",
    "### Other software ###\n",
    "\n",
    "Aladin: https://aladin.u-strasbg.fr/AladinDesktop/\n",
    "\n",
    "Cassis: http://cassis.irap.omp.eu/\n",
    "\n",
    "Topcat: https://www.g-vo.org/topcat/topcat/\n",
    "\n",
    "\n",
    "\n"
   ]
  },
  {
   "cell_type": "markdown",
   "metadata": {},
   "source": [
    "## Query SIMBAD with TAP/ADQL ##\n",
    "In the first step we will query the SIMBAD TAP/ADQL service to obtain a list of variable stars in the Orion cluster. Note that in our query we JOIN three table on the SIMBAD service to combine the data and make the most of the otype tree as well as the membership relations. If you feel uncomfortable with this query, you may want to have a look at the ADQL course: http://docs.g-vo.org/adql/html/\n"
   ]
  },
  {
   "cell_type": "code",
   "execution_count": null,
   "metadata": {},
   "outputs": [],
   "source": [
    "import pyvo\n",
    "\n",
    "\"\"\"Get information of stars in the Orion Cluster from SIMBAD\n",
    "   We are selecting variable stars and the gaia id\"\"\"\n",
    "\n",
    "# Make the TAP service object\n",
    "service = pyvo.dal.TAPService (\"http://simbad.u-strasbg.fr:80/simbad/sim-tap\")\n",
    "\n",
    "# Query the TAP service with a simple ADQL query.\n",
    "stars = service.search (\"\"\"\n",
    "SELECT\n",
    "    DISTINCT \n",
    "    TOP 20 main_id,ra, dec, cats.id\n",
    "    FROM ident AS orion,basic\n",
    "    \n",
    "    JOIN ident AS cats \n",
    "    ON basic.oid=cats.oidref \n",
    "    \n",
    "    JOIN h_link ON (oid=child \n",
    "    AND parent=orion.oidref)\n",
    "    \n",
    "    WHERE orion.id = 'Orion Cluster' \n",
    "    AND membership >=90\n",
    "    AND cats.id LIKE 'Gaia DR3 %' \n",
    "    AND basic.otype = 'V*..' \n",
    "\n",
    "  \"\"\")\n",
    "\n",
    "print (stars)"
   ]
  },
  {
   "cell_type": "markdown",
   "metadata": {},
   "source": [
    "## X-match with Gaia DR3 ##\n",
    "\n",
    "To perform the x-match we will use the ESA Gaia archive service. We use the table upload feature in ADQL to JOIN our local table with the remote one. Note, that since the x-match is performed on the Gaia id, we do not need our positions. \n",
    "Also note that we added\n",
    "\n",
    "WHERE has_epoch_photometry ='t'\n",
    "\n",
    "because we are only interested in stars which have photometric time series available. Thus, not all of our stars from SIMBAD will be included in the result. \n",
    "\n",
    "Also see that we added the restriction TOP 3 here. This is to keep the presentation sane and fast. "
   ]
  },
  {
   "cell_type": "code",
   "execution_count": null,
   "metadata": {},
   "outputs": [],
   "source": [
    "\"\"\"X-matching with ESA Gaia Service and limit search to objects which\n",
    "   also have lightcurves published.\"\"\"\n",
    "\n",
    "esa_service = pyvo.dal.TAPService (\"https://gea.esac.esa.int/tap-server/tap\")\n",
    "\n",
    "gaia_xmatch = esa_service.search (\"\"\"\n",
    "    SELECT TOP 3\n",
    "    \n",
    "    simbad.main_id, source_id, designation, \n",
    "    phot_variable_flag,phot_g_mean_mag, \n",
    "    phot_bp_mean_mag, phot_rp_mean_mag, \n",
    "    gaia.ra, gaia.dec,parallax, pm, \n",
    "    pmra, pmdec, radial_velocity \n",
    "    \n",
    "    FROM gaiadr3.gaia_source AS gaia\n",
    "    \n",
    "    JOIN TAP_UPLOAD.simbad AS simbad\n",
    "    ON simbad.id=designation\n",
    "    \n",
    "    WHERE has_epoch_photometry ='t'\n",
    "    \"\"\", uploads={'simbad':stars})\n",
    "\n",
    "print (gaia_xmatch)"
   ]
  },
  {
   "cell_type": "markdown",
   "metadata": {},
   "source": [
    "## Datalink ##\n",
    "Within the VOTable we obtained from the ESA Gaia archive we also have a little treasure that will help us to access further information. In this step we will have a look into the datalink standard and how to use it in PyVO to access the gaia lightcurves. \n",
    "\n",
    "We start out with the example of how to find the lightcurves for a single source in our table. "
   ]
  },
  {
   "cell_type": "code",
   "execution_count": null,
   "metadata": {
    "scrolled": false
   },
   "outputs": [],
   "source": [
    "\"\"\"Get the datalink and the lightcure for the first row in our table\"\"\"\n",
    "\n",
    "# Get first row\n",
    "first_row=gaia_xmatch[0]\n",
    "\n",
    "# Make the datalink object\n",
    "datalink=first_row.getdatalink()\n",
    "\n",
    "# Go through the datalink parameters\n",
    "for link in datalink: \n",
    "    print (link['description'])\n",
    "    print (link['access_url'])\n"
   ]
  },
  {
   "cell_type": "markdown",
   "metadata": {},
   "source": [
    "The output shows the datalink capabilities of the first source. These capabilities may differ depending on the actual object and thus can be different for other sources in the same table (Due to our selecttion in the ADQL query, the capability of \"Epoch photometry\" should be available for all source in our table). \n",
    "\n",
    "Let sink in what happens here: the ESA Service is providing us with information about additional data for each of the objects in our table gaia_xmatch. But where is this meta data stored ?\n",
    "\n",
    "The secret lies in the data link standard which is implemented and comes with the VOTable. Within the VOTable one can find a described resource looking similar than this: \n",
    "\n",
    "$  \n",
    "<RESOURCE type=\"meta\" utype=\"adhoc:service\" name=\"ancillary\">\n",
    "  <DESCRIPTION>Retrieve DataLink file containing ancillary data for source</DESCRIPTION>\n",
    "  <PARAM name=\"accessURL\" datatype=\"char\" arraysize=\"*\" \n",
    "         value=\"https://gea.esac.esa.int/data-server/datalink/links\"/>\n",
    "  <PARAM name=\"standardID\" datatype=\"char\" arraysize=\"*\" \n",
    "         value=\"ivo://ivoa.net/std/DataLink#links-1.0\"/>\n",
    "  <GROUP name=\"inputParams\">\n",
    "    <PARAM arraysize=\"*\" datatype=\"char\" name=\"ID\" ref=\"DESIGNATION\" value=\"\">\n",
    "    </PARAM>\n",
    "  </GROUP>\n",
    "</RESOURCE>\n",
    "$\n",
    "\n",
    "Within the parameter tags of the resource, the parameter \"accessURL\" defines the URL under which a service can be found which offers more information about additional data linked to a specific data point of the data within the VOTable. In our case this means we can complete the URL to find out more about each object in our table. Therefore the parameters in the group tag explain which column in our table contains the identifier we need to complete the datalink, here it's the column \"designation\" (that's why we showed it in the output above). The IVOA datalink standard now defines that the complete link should be the accessURL, followed bz \"?ID=\" and the identifier, e.g. one of the gaia identifiers above. So an example of this link could look like this:\n",
    "\n",
    "https://gea.esac.esa.int/data-server/datalink/links?ID=Gaia DR3 3017264007761349504\n",
    "\n",
    "Now, behind this link one does not find the lightcurves, but instead a VOTable describing the additional cabilities of the service. In the use case here this is a list of links spectra or lightcurves, but other datalinks might include descriptions of image or cube cutout services (which are covered by the IVOA SODA standard). \n",
    "\n",
    "Luckily, since all of this is standardized, we do not have to write individual code to build the URLs to the datalink and eventually the lightcurves, because the table object in python does provide us with the information. In our gaia_xmatch table we can access these information like following:"
   ]
  },
  {
   "cell_type": "code",
   "execution_count": null,
   "metadata": {},
   "outputs": [],
   "source": [
    "print (gaia_xmatch.votable.resources[1].description)\n",
    "\n",
    "print (gaia_xmatch.votable.resources[1].params[1])\n",
    "\n",
    "print (gaia_xmatch.votable.resources[1].groups[0].entries[0])"
   ]
  },
  {
   "cell_type": "markdown",
   "metadata": {},
   "source": [
    "Now this shows us how to receive the information of the additional data, what we still need to do is accessing this information.  Very conveniently the row objects of the table provide us with this possibility and actually this is where it makes most sense: part of the datalink information will be individually for each object, in our example the lightcurves of course are individual, but for the whole gaia catalog, some data records might not offer lightcurves at all, whereas others might offer additional information. \n",
    "\n",
    "To actually access all lightcurves (or other additional resources), we can iterate over the rows of our table and use the row object methods to access the datalink. Note that we do not have to do the step of actually reading the rresources bit from the VOTable -- PyVO already did this for us and provides us with the methods to access the data. So here is how the iteration looks like and how we can access the light curve table. \n",
    "\n",
    "Note: we use the description to only use the lightcurve capability in the datalink, and ignore the others. As convenient as PyVO is, this of course still needs a bit of reading of the ESA gaia archive docu. From there we know that the lightcurves come as VOTable also, hence we can easily read them into this notebook. "
   ]
  },
  {
   "cell_type": "code",
   "execution_count": null,
   "metadata": {},
   "outputs": [],
   "source": [
    "\"\"\" Use the datalink resource of the gaia Table to find the \n",
    "    links to the lightcurves.\"\"\"\n",
    "from astropy.io.votable import parse\n",
    "\n",
    "# Going through the rows of our VOTable \n",
    "for i in gaia_xmatch:\n",
    "    # Get the possible datalinks for each data record.\n",
    "    # The possible resources behind the datalink depend on \n",
    "    # the actual objects. \n",
    "    \n",
    "    dl=i.getdatalink()\n",
    "\n",
    "    # Since there may be more than one datalink, we need \n",
    "    # to so get the one with the lc of g band and therefore \n",
    "    # make a selection of the description. \n",
    "    \n",
    "    for ii in dl:\n",
    "        if ii['description'].find('Epoch photometry')!=-1:\n",
    "            # Use the access_url attribut\n",
    "            accurl=ii['access_url']\n",
    " \n",
    "            # Parse the VOTable from the link -- we have the lightcurves\n",
    "            lc_vot=parse(str(accurl)).get_first_table()\n",
    "            # Print the source ID of the first row of each table to stdout            \n",
    "            print(lc_vot.to_table()[0]['source_id'])\n"
   ]
  },
  {
   "cell_type": "code",
   "execution_count": null,
   "metadata": {},
   "outputs": [],
   "source": [
    "\"\"\"Print the last received lightcurve table to stdout\"\"\"\n",
    "print (lc_vot)"
   ]
  },
  {
   "cell_type": "markdown",
   "metadata": {},
   "source": [
    "The output will show you the list of clients accepting VOTables and the list of clients accepting spectra. If you started topcat, Aladin and CASSIS, all three should be in list of accepting VOTables, and only CASSIS should be shown to accept spectra."
   ]
  },
  {
   "cell_type": "markdown",
   "metadata": {},
   "source": [
    "## SSA: finding and accessing spectra ##\n",
    "The Single Spectra Access Protocol is the VO standard to find and access services providing spectra. From the user side, all the \"simple\" protocols word similar: by defining a position and a diameter around it, a service is queried if data exists. If so, the service will reply with a list of the results matching the query, and access urls to download the results. \n",
    "Note, that the results are not automatically loaded. Thus enabling the software to first \"analyse\" the result, e.g. by printing it to stdout and letting the user decide if they want to download the spectrum. A short example on how this works is the following code:"
   ]
  },
  {
   "cell_type": "code",
   "execution_count": null,
   "metadata": {},
   "outputs": [],
   "source": [
    "\"\"\"Finding spectra for a specific position on the gavo service\"\"\"\n",
    "import astropy.units as units\n",
    "from astropy.units import Quantity\n",
    "from astropy.coordinates import SkyCoord\n",
    "\n",
    "coord=SkyCoord(83.817*units.deg, -5.385*units.deg, frame='icrs')\n",
    "\n",
    "\n",
    "def search_spectrum(coord):\n",
    "    # Gaia DR3 MC sampled XP spectra SSA\n",
    "    ssa_service = pyvo.dal.SSAService(\"http://dc.zah.uni-heidelberg.de/gaia/s3/ssa/ssap.xml?\")\n",
    "    ssa_results = ssa_service.search(pos = coord, diameter=Quantity(3, unit=\"arcsec\"))\n",
    "    return ssa_results\n",
    "\n",
    "ssa_results=search_spectrum(coord)\n",
    "\n",
    "print (ssa_results[0]['ssa_dstitle'])\n",
    "print (ssa_results[0]['accref'])\n",
    "                      "
   ]
  },
  {
   "cell_type": "markdown",
   "metadata": {},
   "source": [
    "## VO Standards ##\n",
    "\n",
    "TAP : https://www.ivoa.net/documents/latest/ADQL.html\n",
    "\n",
    "ADQL: https://www.ivoa.net/documents/TAP/20190927/\n",
    "           \n",
    "VOTable: https://www.ivoa.net/documents/VOTable/20191021/\n",
    "\n",
    "Datalink: https://www.ivoa.net/documents/DataLink/20150617/index.html\n",
    "\n",
    "UCDs: https://www.ivoa.net/documents/latest/UCD.html\n",
    "\n",
    "SSA: https://www.ivoa.net/documents/SSA/20120210/index.html\n"
   ]
  },
  {
   "cell_type": "markdown",
   "metadata": {},
   "source": [
    "## Services Used ##\n",
    "We use a few VO compliant data services out there to receive data. These are:\n",
    "    \n",
    "SIMABD: https://simbad.unistra.fr/simbad/\n",
    "\n",
    "ESA-Gaia Archive: https://gea.esac.esa.int/archive/\n",
    "\n",
    "GAVO SSA: https://dc.zah.uni-heidelberg.de/gaia/s3/web/form"
   ]
  },
  {
   "cell_type": "code",
   "execution_count": null,
   "metadata": {},
   "outputs": [],
   "source": []
  }
 ],
 "metadata": {
  "kernelspec": {
   "display_name": "Python 3",
   "language": "python",
   "name": "python3"
  },
  "language_info": {
   "codemirror_mode": {
    "name": "ipython",
    "version": 3
   },
   "file_extension": ".py",
   "mimetype": "text/x-python",
   "name": "python",
   "nbconvert_exporter": "python",
   "pygments_lexer": "ipython3",
   "version": "3.10.8"
  }
 },
 "nbformat": 4,
 "nbformat_minor": 4
}
